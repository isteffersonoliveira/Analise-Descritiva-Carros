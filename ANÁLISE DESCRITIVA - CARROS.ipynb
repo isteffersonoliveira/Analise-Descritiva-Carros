{
 "cells": [
  {
   "cell_type": "markdown",
   "metadata": {
    "id": "f7urYQEJl0gF"
   },
   "source": [
    "***\n",
    "# <font color=green size=10>ANÁLISE DESCRITIVA</font>\n",
    "***\n",
    "\n",
    "## Veículos\n",
    "\n",
    "\n",
    "<img src=\"https://storage.googleapis.com/kaggle-datasets-images/33080/43333/7b1639f76c1abfb8dfef64e254badbeb/dataset-cover.jpg?t=2018-06-24-19-20-03\" class=\"Header_CoverImg--1431b7d eWPpsZ\">\n",
    "\n",
    "Este conjunto de dados contém informações sobre carros usados.\n",
    "Esses dados podem ser usados ​​para diversos fins, como previsão de preços, para exemplificar o uso de regressão linear no Aprendizado de Máquina.\n",
    "As colunas no conjunto de dados fornecido são as seguintes:\n",
    "\n",
    "nome, ano, preço de venda, km_driven, combustível, vendedor_tipo, transmissão, Proprietário.\n",
    "\n",
    "FONTE: https://www.kaggle.com/nehalbirla/vehicle-dataset-from-cardekho\n",
    "\n",
    "Arquivo: 'Car details v3.csv'\n"
   ]
  },
  {
   "cell_type": "markdown",
   "metadata": {
    "id": "r0XudQpRm8Wr"
   },
   "source": [
    "# Importações"
   ]
  },
  {
   "cell_type": "code",
   "execution_count": null,
   "metadata": {
    "id": "mH6GN6qdl7Wd"
   },
   "outputs": [],
   "source": [
    "import pandas as pd\n",
    "import seaborn as sns"
   ]
  },
  {
   "cell_type": "markdown",
   "metadata": {
    "id": "zOObR_TLm-tC"
   },
   "source": [
    "# Leitura e Compreenção dos Dados"
   ]
  },
  {
   "cell_type": "code",
   "execution_count": null,
   "metadata": {
    "id": "7FoOOE1vmhaG"
   },
   "outputs": [],
   "source": [
    "df = pd.read_csv('/content/drive/MyDrive/Python/Especialização/Carros/Car details v3.csv')"
   ]
  },
  {
   "cell_type": "code",
   "execution_count": null,
   "metadata": {
    "colab": {
     "base_uri": "https://localhost:8080/",
     "height": 469
    },
    "id": "zAbfW5TLm14C",
    "outputId": "56efdcdc-8982-4ae0-ad59-b8bcb8e24f0e"
   },
   "outputs": [
    {
     "data": {
      "text/html": [
       "<div>\n",
       "<style scoped>\n",
       "    .dataframe tbody tr th:only-of-type {\n",
       "        vertical-align: middle;\n",
       "    }\n",
       "\n",
       "    .dataframe tbody tr th {\n",
       "        vertical-align: top;\n",
       "    }\n",
       "\n",
       "    .dataframe thead th {\n",
       "        text-align: right;\n",
       "    }\n",
       "</style>\n",
       "<table border=\"1\" class=\"dataframe\">\n",
       "  <thead>\n",
       "    <tr style=\"text-align: right;\">\n",
       "      <th></th>\n",
       "      <th>name</th>\n",
       "      <th>year</th>\n",
       "      <th>selling_price</th>\n",
       "      <th>km_driven</th>\n",
       "      <th>fuel</th>\n",
       "      <th>seller_type</th>\n",
       "      <th>transmission</th>\n",
       "      <th>owner</th>\n",
       "      <th>mileage</th>\n",
       "      <th>engine</th>\n",
       "      <th>max_power</th>\n",
       "      <th>torque</th>\n",
       "      <th>seats</th>\n",
       "    </tr>\n",
       "  </thead>\n",
       "  <tbody>\n",
       "    <tr>\n",
       "      <th>0</th>\n",
       "      <td>Maruti Swift Dzire VDI</td>\n",
       "      <td>2014</td>\n",
       "      <td>450000</td>\n",
       "      <td>145500</td>\n",
       "      <td>Diesel</td>\n",
       "      <td>Individual</td>\n",
       "      <td>Manual</td>\n",
       "      <td>First Owner</td>\n",
       "      <td>23.4 kmpl</td>\n",
       "      <td>1248 CC</td>\n",
       "      <td>74 bhp</td>\n",
       "      <td>190Nm@ 2000rpm</td>\n",
       "      <td>5.0</td>\n",
       "    </tr>\n",
       "    <tr>\n",
       "      <th>1</th>\n",
       "      <td>Skoda Rapid 1.5 TDI Ambition</td>\n",
       "      <td>2014</td>\n",
       "      <td>370000</td>\n",
       "      <td>120000</td>\n",
       "      <td>Diesel</td>\n",
       "      <td>Individual</td>\n",
       "      <td>Manual</td>\n",
       "      <td>Second Owner</td>\n",
       "      <td>21.14 kmpl</td>\n",
       "      <td>1498 CC</td>\n",
       "      <td>103.52 bhp</td>\n",
       "      <td>250Nm@ 1500-2500rpm</td>\n",
       "      <td>5.0</td>\n",
       "    </tr>\n",
       "    <tr>\n",
       "      <th>2</th>\n",
       "      <td>Honda City 2017-2020 EXi</td>\n",
       "      <td>2006</td>\n",
       "      <td>158000</td>\n",
       "      <td>140000</td>\n",
       "      <td>Petrol</td>\n",
       "      <td>Individual</td>\n",
       "      <td>Manual</td>\n",
       "      <td>Third Owner</td>\n",
       "      <td>17.7 kmpl</td>\n",
       "      <td>1497 CC</td>\n",
       "      <td>78 bhp</td>\n",
       "      <td>12.7@ 2,700(kgm@ rpm)</td>\n",
       "      <td>5.0</td>\n",
       "    </tr>\n",
       "    <tr>\n",
       "      <th>3</th>\n",
       "      <td>Hyundai i20 Sportz Diesel</td>\n",
       "      <td>2010</td>\n",
       "      <td>225000</td>\n",
       "      <td>127000</td>\n",
       "      <td>Diesel</td>\n",
       "      <td>Individual</td>\n",
       "      <td>Manual</td>\n",
       "      <td>First Owner</td>\n",
       "      <td>23.0 kmpl</td>\n",
       "      <td>1396 CC</td>\n",
       "      <td>90 bhp</td>\n",
       "      <td>22.4 kgm at 1750-2750rpm</td>\n",
       "      <td>5.0</td>\n",
       "    </tr>\n",
       "    <tr>\n",
       "      <th>4</th>\n",
       "      <td>Maruti Swift VXI BSIII</td>\n",
       "      <td>2007</td>\n",
       "      <td>130000</td>\n",
       "      <td>120000</td>\n",
       "      <td>Petrol</td>\n",
       "      <td>Individual</td>\n",
       "      <td>Manual</td>\n",
       "      <td>First Owner</td>\n",
       "      <td>16.1 kmpl</td>\n",
       "      <td>1298 CC</td>\n",
       "      <td>88.2 bhp</td>\n",
       "      <td>11.5@ 4,500(kgm@ rpm)</td>\n",
       "      <td>5.0</td>\n",
       "    </tr>\n",
       "  </tbody>\n",
       "</table>\n",
       "</div>"
      ],
      "text/plain": [
       "                           name  year  ...                    torque  seats\n",
       "0        Maruti Swift Dzire VDI  2014  ...            190Nm@ 2000rpm    5.0\n",
       "1  Skoda Rapid 1.5 TDI Ambition  2014  ...       250Nm@ 1500-2500rpm    5.0\n",
       "2      Honda City 2017-2020 EXi  2006  ...     12.7@ 2,700(kgm@ rpm)    5.0\n",
       "3     Hyundai i20 Sportz Diesel  2010  ...  22.4 kgm at 1750-2750rpm    5.0\n",
       "4        Maruti Swift VXI BSIII  2007  ...     11.5@ 4,500(kgm@ rpm)    5.0\n",
       "\n",
       "[5 rows x 13 columns]"
      ]
     },
     "execution_count": 4,
     "metadata": {},
     "output_type": "execute_result"
    }
   ],
   "source": [
    "df.head()"
   ]
  },
  {
   "cell_type": "markdown",
   "metadata": {
    "id": "9u0mWmk2xnyl"
   },
   "source": [
    "O valor do carro (selling_price) está sem o separador decimal, desta forma será dividido por 100 para que este dado seja melhor ajustado a análise:"
   ]
  },
  {
   "cell_type": "code",
   "execution_count": null,
   "metadata": {
    "id": "ZakEmMJryD5z"
   },
   "outputs": [],
   "source": [
    "df['selling_price'] = df['selling_price']/100"
   ]
  },
  {
   "cell_type": "markdown",
   "metadata": {
    "id": "cd7WUKNIyYzK"
   },
   "source": [
    "Deste modo:"
   ]
  },
  {
   "cell_type": "code",
   "execution_count": null,
   "metadata": {
    "colab": {
     "base_uri": "https://localhost:8080/",
     "height": 469
    },
    "id": "47FOgCPryaxS",
    "outputId": "a9290421-1350-44a5-90ff-5b0592259acb"
   },
   "outputs": [
    {
     "data": {
      "text/html": [
       "<div>\n",
       "<style scoped>\n",
       "    .dataframe tbody tr th:only-of-type {\n",
       "        vertical-align: middle;\n",
       "    }\n",
       "\n",
       "    .dataframe tbody tr th {\n",
       "        vertical-align: top;\n",
       "    }\n",
       "\n",
       "    .dataframe thead th {\n",
       "        text-align: right;\n",
       "    }\n",
       "</style>\n",
       "<table border=\"1\" class=\"dataframe\">\n",
       "  <thead>\n",
       "    <tr style=\"text-align: right;\">\n",
       "      <th></th>\n",
       "      <th>name</th>\n",
       "      <th>year</th>\n",
       "      <th>selling_price</th>\n",
       "      <th>km_driven</th>\n",
       "      <th>fuel</th>\n",
       "      <th>seller_type</th>\n",
       "      <th>transmission</th>\n",
       "      <th>owner</th>\n",
       "      <th>mileage</th>\n",
       "      <th>engine</th>\n",
       "      <th>max_power</th>\n",
       "      <th>torque</th>\n",
       "      <th>seats</th>\n",
       "    </tr>\n",
       "  </thead>\n",
       "  <tbody>\n",
       "    <tr>\n",
       "      <th>0</th>\n",
       "      <td>Maruti Swift Dzire VDI</td>\n",
       "      <td>2014</td>\n",
       "      <td>4500.0</td>\n",
       "      <td>145500</td>\n",
       "      <td>Diesel</td>\n",
       "      <td>Individual</td>\n",
       "      <td>Manual</td>\n",
       "      <td>First Owner</td>\n",
       "      <td>23.4 kmpl</td>\n",
       "      <td>1248 CC</td>\n",
       "      <td>74 bhp</td>\n",
       "      <td>190Nm@ 2000rpm</td>\n",
       "      <td>5.0</td>\n",
       "    </tr>\n",
       "    <tr>\n",
       "      <th>1</th>\n",
       "      <td>Skoda Rapid 1.5 TDI Ambition</td>\n",
       "      <td>2014</td>\n",
       "      <td>3700.0</td>\n",
       "      <td>120000</td>\n",
       "      <td>Diesel</td>\n",
       "      <td>Individual</td>\n",
       "      <td>Manual</td>\n",
       "      <td>Second Owner</td>\n",
       "      <td>21.14 kmpl</td>\n",
       "      <td>1498 CC</td>\n",
       "      <td>103.52 bhp</td>\n",
       "      <td>250Nm@ 1500-2500rpm</td>\n",
       "      <td>5.0</td>\n",
       "    </tr>\n",
       "    <tr>\n",
       "      <th>2</th>\n",
       "      <td>Honda City 2017-2020 EXi</td>\n",
       "      <td>2006</td>\n",
       "      <td>1580.0</td>\n",
       "      <td>140000</td>\n",
       "      <td>Petrol</td>\n",
       "      <td>Individual</td>\n",
       "      <td>Manual</td>\n",
       "      <td>Third Owner</td>\n",
       "      <td>17.7 kmpl</td>\n",
       "      <td>1497 CC</td>\n",
       "      <td>78 bhp</td>\n",
       "      <td>12.7@ 2,700(kgm@ rpm)</td>\n",
       "      <td>5.0</td>\n",
       "    </tr>\n",
       "    <tr>\n",
       "      <th>3</th>\n",
       "      <td>Hyundai i20 Sportz Diesel</td>\n",
       "      <td>2010</td>\n",
       "      <td>2250.0</td>\n",
       "      <td>127000</td>\n",
       "      <td>Diesel</td>\n",
       "      <td>Individual</td>\n",
       "      <td>Manual</td>\n",
       "      <td>First Owner</td>\n",
       "      <td>23.0 kmpl</td>\n",
       "      <td>1396 CC</td>\n",
       "      <td>90 bhp</td>\n",
       "      <td>22.4 kgm at 1750-2750rpm</td>\n",
       "      <td>5.0</td>\n",
       "    </tr>\n",
       "    <tr>\n",
       "      <th>4</th>\n",
       "      <td>Maruti Swift VXI BSIII</td>\n",
       "      <td>2007</td>\n",
       "      <td>1300.0</td>\n",
       "      <td>120000</td>\n",
       "      <td>Petrol</td>\n",
       "      <td>Individual</td>\n",
       "      <td>Manual</td>\n",
       "      <td>First Owner</td>\n",
       "      <td>16.1 kmpl</td>\n",
       "      <td>1298 CC</td>\n",
       "      <td>88.2 bhp</td>\n",
       "      <td>11.5@ 4,500(kgm@ rpm)</td>\n",
       "      <td>5.0</td>\n",
       "    </tr>\n",
       "  </tbody>\n",
       "</table>\n",
       "</div>"
      ],
      "text/plain": [
       "                           name  year  ...                    torque  seats\n",
       "0        Maruti Swift Dzire VDI  2014  ...            190Nm@ 2000rpm    5.0\n",
       "1  Skoda Rapid 1.5 TDI Ambition  2014  ...       250Nm@ 1500-2500rpm    5.0\n",
       "2      Honda City 2017-2020 EXi  2006  ...     12.7@ 2,700(kgm@ rpm)    5.0\n",
       "3     Hyundai i20 Sportz Diesel  2010  ...  22.4 kgm at 1750-2750rpm    5.0\n",
       "4        Maruti Swift VXI BSIII  2007  ...     11.5@ 4,500(kgm@ rpm)    5.0\n",
       "\n",
       "[5 rows x 13 columns]"
      ]
     },
     "execution_count": 6,
     "metadata": {},
     "output_type": "execute_result"
    }
   ],
   "source": [
    "df.head()"
   ]
  },
  {
   "cell_type": "markdown",
   "metadata": {
    "id": "CkMe2rbHQPbo"
   },
   "source": [
    "# Quantidade de linhas e colunas:"
   ]
  },
  {
   "cell_type": "code",
   "execution_count": null,
   "metadata": {
    "colab": {
     "base_uri": "https://localhost:8080/"
    },
    "id": "cGgINbbTm2YX",
    "outputId": "55552c9f-d107-40e8-fe92-486057935e0d"
   },
   "outputs": [
    {
     "name": "stdout",
     "output_type": "stream",
     "text": [
      "Quantidade de linhas: 8128\n",
      "Quantidade de Colunas: 13\n"
     ]
    }
   ],
   "source": [
    "print(f'Quantidade de linhas: {df.shape[0]}')\n",
    "print(f'Quantidade de Colunas: {df.shape[1]}')"
   ]
  },
  {
   "cell_type": "markdown",
   "metadata": {
    "id": "ow9gSMiTnysz"
   },
   "source": [
    "# Colunas do Data Frame:"
   ]
  },
  {
   "cell_type": "code",
   "execution_count": null,
   "metadata": {
    "colab": {
     "base_uri": "https://localhost:8080/"
    },
    "id": "gAg6BVm5ngo-",
    "outputId": "8d07f1e5-1fe2-43fd-afb7-f06873845700"
   },
   "outputs": [
    {
     "data": {
      "text/plain": [
       "Index(['name', 'year', 'selling_price', 'km_driven', 'fuel', 'seller_type',\n",
       "       'transmission', 'owner', 'mileage', 'engine', 'max_power', 'torque',\n",
       "       'seats'],\n",
       "      dtype='object')"
      ]
     },
     "execution_count": 8,
     "metadata": {},
     "output_type": "execute_result"
    }
   ],
   "source": [
    "df.columns"
   ]
  },
  {
   "cell_type": "markdown",
   "metadata": {
    "id": "FSHIna3oSUTL"
   },
   "source": [
    "# Frequência do tipo de combustível:"
   ]
  },
  {
   "cell_type": "code",
   "execution_count": null,
   "metadata": {
    "colab": {
     "base_uri": "https://localhost:8080/"
    },
    "id": "3O9Emt7dPlkY",
    "outputId": "87c601ce-e562-4b8b-d067-43e3ffafcc14"
   },
   "outputs": [
    {
     "data": {
      "text/plain": [
       "Diesel    4402\n",
       "Petrol    3631\n",
       "CNG         57\n",
       "LPG         38\n",
       "Name: fuel, dtype: int64"
      ]
     },
     "execution_count": 9,
     "metadata": {},
     "output_type": "execute_result"
    }
   ],
   "source": [
    "combustivel = df['fuel'].value_counts()\n",
    "combustivel\n"
   ]
  },
  {
   "cell_type": "code",
   "execution_count": null,
   "metadata": {
    "colab": {
     "base_uri": "https://localhost:8080/",
     "height": 358
    },
    "id": "AcFkvg2HjHBt",
    "outputId": "7fa85836-64ab-43a9-c3d1-f1df868476dc"
   },
   "outputs": [
    {
     "data": {
      "text/plain": [
       "<matplotlib.axes._subplots.AxesSubplot at 0x7f5fba07e190>"
      ]
     },
     "execution_count": 10,
     "metadata": {},
     "output_type": "execute_result"
    },
    {
     "data": {
      "image/png": "[encoded data removed]",
      "text/plain": [
       "<Figure size 720x360 with 1 Axes>"
      ]
     },
     "metadata": {
      "needs_background": "light"
     },
     "output_type": "display_data"
    }
   ],
   "source": [
    "combustivel_grafico = pd.DataFrame(data=combustivel)\n",
    "combustivel_grafico['fuel'].plot.bar(width = 1, color = 'blue', alpha = 0.2, figsize=(10, 5))"
   ]
  },
  {
   "cell_type": "markdown",
   "metadata": {
    "id": "ZrnFYSy4rIKx"
   },
   "source": [
    "# Percentual Combustível"
   ]
  },
  {
   "cell_type": "code",
   "execution_count": null,
   "metadata": {
    "colab": {
     "base_uri": "https://localhost:8080/",
     "height": 174
    },
    "id": "59yxDLcnqBqr",
    "outputId": "a50b2caa-4cc5-47fa-e99f-64e7e8cb7ef3"
   },
   "outputs": [
    {
     "data": {
      "text/html": [
       "<div>\n",
       "<style scoped>\n",
       "    .dataframe tbody tr th:only-of-type {\n",
       "        vertical-align: middle;\n",
       "    }\n",
       "\n",
       "    .dataframe tbody tr th {\n",
       "        vertical-align: top;\n",
       "    }\n",
       "\n",
       "    .dataframe thead th {\n",
       "        text-align: right;\n",
       "    }\n",
       "</style>\n",
       "<table border=\"1\" class=\"dataframe\">\n",
       "  <thead>\n",
       "    <tr style=\"text-align: right;\">\n",
       "      <th></th>\n",
       "      <th>fuel</th>\n",
       "      <th>perc</th>\n",
       "    </tr>\n",
       "  </thead>\n",
       "  <tbody>\n",
       "    <tr>\n",
       "      <th>Diesel</th>\n",
       "      <td>4402</td>\n",
       "      <td>54.16</td>\n",
       "    </tr>\n",
       "    <tr>\n",
       "      <th>Petrol</th>\n",
       "      <td>3631</td>\n",
       "      <td>44.67</td>\n",
       "    </tr>\n",
       "    <tr>\n",
       "      <th>CNG</th>\n",
       "      <td>57</td>\n",
       "      <td>0.70</td>\n",
       "    </tr>\n",
       "    <tr>\n",
       "      <th>LPG</th>\n",
       "      <td>38</td>\n",
       "      <td>0.47</td>\n",
       "    </tr>\n",
       "  </tbody>\n",
       "</table>\n",
       "</div>"
      ],
      "text/plain": [
       "        fuel   perc\n",
       "Diesel  4402  54.16\n",
       "Petrol  3631  44.67\n",
       "CNG       57   0.70\n",
       "LPG       38   0.47"
      ]
     },
     "execution_count": 11,
     "metadata": {},
     "output_type": "execute_result"
    }
   ],
   "source": [
    "combustivel_grafico['perc'] = round(combustivel_grafico['fuel']/df.shape[0] *100, 2)\n",
    "combustivel_grafico"
   ]
  },
  {
   "cell_type": "code",
   "execution_count": null,
   "metadata": {
    "colab": {
     "base_uri": "https://localhost:8080/",
     "height": 358
    },
    "id": "stATwfQirNtS",
    "outputId": "c5cdb3ca-54ab-4093-f6ef-10095360254d"
   },
   "outputs": [
    {
     "data": {
      "text/plain": [
       "<matplotlib.axes._subplots.AxesSubplot at 0x7f5fb8515890>"
      ]
     },
     "execution_count": 12,
     "metadata": {},
     "output_type": "execute_result"
    },
    {
     "data": {
      "image/png": "[encoded data removed]",
      "text/plain": [
       "<Figure size 720x360 with 1 Axes>"
      ]
     },
     "metadata": {
      "needs_background": "light"
     },
     "output_type": "display_data"
    }
   ],
   "source": [
    "combustivel_grafico['perc'].plot.bar(width = 1, color = 'blue', alpha = 0.2, figsize=(10, 5))"
   ]
  },
  {
   "cell_type": "markdown",
   "metadata": {
    "id": "2KdfSG6kpKCM"
   },
   "source": [
    "# Frequência do tipo de câmbio:"
   ]
  },
  {
   "cell_type": "code",
   "execution_count": null,
   "metadata": {
    "colab": {
     "base_uri": "https://localhost:8080/"
    },
    "id": "J3af9sI1pOcz",
    "outputId": "3d76b32c-ee0a-4371-fb0b-cd1720db73a0"
   },
   "outputs": [
    {
     "data": {
      "text/plain": [
       "Manual       7078\n",
       "Automatic    1050\n",
       "Name: transmission, dtype: int64"
      ]
     },
     "execution_count": 13,
     "metadata": {},
     "output_type": "execute_result"
    }
   ],
   "source": [
    "cambio = df['transmission'].value_counts()\n",
    "cambio\n"
   ]
  },
  {
   "cell_type": "code",
   "execution_count": null,
   "metadata": {
    "colab": {
     "base_uri": "https://localhost:8080/",
     "height": 378
    },
    "id": "emcHnu3Kph-D",
    "outputId": "b9ce01a8-cf7a-4e67-9c3d-baf71377bde9"
   },
   "outputs": [
    {
     "data": {
      "text/plain": [
       "<matplotlib.axes._subplots.AxesSubplot at 0x7f5fb7fd8590>"
      ]
     },
     "execution_count": 14,
     "metadata": {},
     "output_type": "execute_result"
    },
    {
     "data": {
      "image/png": "[encoded data removed]",
      "text/plain": [
       "<Figure size 720x360 with 1 Axes>"
      ]
     },
     "metadata": {
      "needs_background": "light"
     },
     "output_type": "display_data"
    }
   ],
   "source": [
    "cambio_grafico = pd.DataFrame(data=cambio)\n",
    "cambio_grafico['transmission'].plot.bar(width = 1, color = 'blue', alpha = 0.2, figsize=(10, 5))"
   ]
  },
  {
   "cell_type": "markdown",
   "metadata": {
    "id": "Gg30hfMyr466"
   },
   "source": [
    "# Percentual do Cambio Utilizado"
   ]
  },
  {
   "cell_type": "code",
   "execution_count": null,
   "metadata": {
    "colab": {
     "base_uri": "https://localhost:8080/",
     "height": 112
    },
    "id": "WFIKIP1tr93h",
    "outputId": "a31be62c-b244-4611-e4c6-df920dbe4269"
   },
   "outputs": [
    {
     "data": {
      "text/html": [
       "<div>\n",
       "<style scoped>\n",
       "    .dataframe tbody tr th:only-of-type {\n",
       "        vertical-align: middle;\n",
       "    }\n",
       "\n",
       "    .dataframe tbody tr th {\n",
       "        vertical-align: top;\n",
       "    }\n",
       "\n",
       "    .dataframe thead th {\n",
       "        text-align: right;\n",
       "    }\n",
       "</style>\n",
       "<table border=\"1\" class=\"dataframe\">\n",
       "  <thead>\n",
       "    <tr style=\"text-align: right;\">\n",
       "      <th></th>\n",
       "      <th>transmission</th>\n",
       "      <th>perc</th>\n",
       "    </tr>\n",
       "  </thead>\n",
       "  <tbody>\n",
       "    <tr>\n",
       "      <th>Manual</th>\n",
       "      <td>7078</td>\n",
       "      <td>87.08</td>\n",
       "    </tr>\n",
       "    <tr>\n",
       "      <th>Automatic</th>\n",
       "      <td>1050</td>\n",
       "      <td>12.92</td>\n",
       "    </tr>\n",
       "  </tbody>\n",
       "</table>\n",
       "</div>"
      ],
      "text/plain": [
       "           transmission   perc\n",
       "Manual             7078  87.08\n",
       "Automatic          1050  12.92"
      ]
     },
     "execution_count": 15,
     "metadata": {},
     "output_type": "execute_result"
    }
   ],
   "source": [
    "cambio_grafico['perc'] = round(cambio_grafico['transmission']/df.shape[0] *100, 2)\n",
    "cambio_grafico"
   ]
  },
  {
   "cell_type": "code",
   "execution_count": null,
   "metadata": {
    "colab": {
     "base_uri": "https://localhost:8080/",
     "height": 378
    },
    "id": "Dpa-Ay6wsRPr",
    "outputId": "00eff60c-ea99-4e4f-83c5-a64caa7bbaee"
   },
   "outputs": [
    {
     "data": {
      "text/plain": [
       "<matplotlib.axes._subplots.AxesSubplot at 0x7f5fb8552ed0>"
      ]
     },
     "execution_count": 16,
     "metadata": {},
     "output_type": "execute_result"
    },
    {
     "data": {
      "image/png": "[encoded data removed]",
      "text/plain": [
       "<Figure size 720x360 with 1 Axes>"
      ]
     },
     "metadata": {
      "needs_background": "light"
     },
     "output_type": "display_data"
    }
   ],
   "source": [
    "cambio_grafico['perc'].plot.bar(width = 1, color = 'blue', alpha = 0.2, figsize=(10, 5))"
   ]
  },
  {
   "cell_type": "markdown",
   "metadata": {
    "id": "ezh2dVSwiU0t"
   },
   "source": [
    "# Descrição do valor do carro pelo tipo de combustível e de câmbio:"
   ]
  },
  {
   "cell_type": "code",
   "execution_count": null,
   "metadata": {
    "colab": {
     "base_uri": "https://localhost:8080/",
     "height": 238
    },
    "id": "B67uko9hSrJc",
    "outputId": "e147f4c6-b3c5-4012-82fc-fba14147f39c"
   },
   "outputs": [
    {
     "data": {
      "text/html": [
       "<div>\n",
       "<style scoped>\n",
       "    .dataframe tbody tr th:only-of-type {\n",
       "        vertical-align: middle;\n",
       "    }\n",
       "\n",
       "    .dataframe tbody tr th {\n",
       "        vertical-align: top;\n",
       "    }\n",
       "\n",
       "    .dataframe thead tr th {\n",
       "        text-align: left;\n",
       "    }\n",
       "\n",
       "    .dataframe thead tr:last-of-type th {\n",
       "        text-align: right;\n",
       "    }\n",
       "</style>\n",
       "<table border=\"1\" class=\"dataframe\">\n",
       "  <thead>\n",
       "    <tr>\n",
       "      <th></th>\n",
       "      <th colspan=\"2\" halign=\"left\">max</th>\n",
       "      <th colspan=\"2\" halign=\"left\">mean</th>\n",
       "      <th colspan=\"2\" halign=\"left\">median</th>\n",
       "      <th colspan=\"2\" halign=\"left\">min</th>\n",
       "    </tr>\n",
       "    <tr>\n",
       "      <th>transmission</th>\n",
       "      <th>Automatic</th>\n",
       "      <th>Manual</th>\n",
       "      <th>Automatic</th>\n",
       "      <th>Manual</th>\n",
       "      <th>Automatic</th>\n",
       "      <th>Manual</th>\n",
       "      <th>Automatic</th>\n",
       "      <th>Manual</th>\n",
       "    </tr>\n",
       "    <tr>\n",
       "      <th>fuel</th>\n",
       "      <th></th>\n",
       "      <th></th>\n",
       "      <th></th>\n",
       "      <th></th>\n",
       "      <th></th>\n",
       "      <th></th>\n",
       "      <th></th>\n",
       "      <th></th>\n",
       "    </tr>\n",
       "  </thead>\n",
       "  <tbody>\n",
       "    <tr>\n",
       "      <th>CNG</th>\n",
       "      <td>NaN</td>\n",
       "      <td>5450.0</td>\n",
       "      <td>NaN</td>\n",
       "      <td>3010.174912</td>\n",
       "      <td>NaN</td>\n",
       "      <td>3200.0</td>\n",
       "      <td>NaN</td>\n",
       "      <td>800.00</td>\n",
       "    </tr>\n",
       "    <tr>\n",
       "      <th>Diesel</th>\n",
       "      <td>72000.0</td>\n",
       "      <td>32000.0</td>\n",
       "      <td>25416.928708</td>\n",
       "      <td>5498.220703</td>\n",
       "      <td>24750.0</td>\n",
       "      <td>5000.0</td>\n",
       "      <td>2450.0</td>\n",
       "      <td>400.00</td>\n",
       "    </tr>\n",
       "    <tr>\n",
       "      <th>LPG</th>\n",
       "      <td>NaN</td>\n",
       "      <td>3750.0</td>\n",
       "      <td>NaN</td>\n",
       "      <td>2004.210526</td>\n",
       "      <td>NaN</td>\n",
       "      <td>1955.0</td>\n",
       "      <td>NaN</td>\n",
       "      <td>540.00</td>\n",
       "    </tr>\n",
       "    <tr>\n",
       "      <th>Petrol</th>\n",
       "      <td>100000.0</td>\n",
       "      <td>15200.0</td>\n",
       "      <td>11765.600601</td>\n",
       "      <td>3441.471923</td>\n",
       "      <td>6500.0</td>\n",
       "      <td>3000.0</td>\n",
       "      <td>750.0</td>\n",
       "      <td>299.99</td>\n",
       "    </tr>\n",
       "  </tbody>\n",
       "</table>\n",
       "</div>"
      ],
      "text/plain": [
       "                   max                   mean  ...  median       min        \n",
       "transmission Automatic   Manual     Automatic  ...  Manual Automatic  Manual\n",
       "fuel                                           ...                          \n",
       "CNG                NaN   5450.0           NaN  ...  3200.0       NaN  800.00\n",
       "Diesel         72000.0  32000.0  25416.928708  ...  5000.0    2450.0  400.00\n",
       "LPG                NaN   3750.0           NaN  ...  1955.0       NaN  540.00\n",
       "Petrol        100000.0  15200.0  11765.600601  ...  3000.0     750.0  299.99\n",
       "\n",
       "[4 rows x 8 columns]"
      ]
     },
     "execution_count": 17,
     "metadata": {},
     "output_type": "execute_result"
    }
   ],
   "source": [
    "dados_veiculos = pd.crosstab(df.fuel, \n",
    "                            df.transmission, \n",
    "                            values = df.selling_price, \n",
    "                            aggfunc = {'median', 'mean', 'max', 'min'})\n",
    "dados_veiculos"
   ]
  },
  {
   "cell_type": "markdown",
   "metadata": {
    "id": "vDWCeFziu933"
   },
   "source": [
    "# Estatistica Aplicada"
   ]
  },
  {
   "cell_type": "markdown",
   "metadata": {
    "id": "E9jGdBc6QtU-"
   },
   "source": [
    "# Análise do preço de venda do veículo:"
   ]
  },
  {
   "cell_type": "code",
   "execution_count": null,
   "metadata": {
    "colab": {
     "base_uri": "https://localhost:8080/"
    },
    "id": "g0Qw0O2Wn470",
    "outputId": "ff03eec6-35ee-4d3b-d197-5ecd833ad46e"
   },
   "outputs": [
    {
     "data": {
      "text/plain": [
       "count      8128.00\n",
       "mean       6382.72\n",
       "std        8062.53\n",
       "min         299.99\n",
       "25%        2549.99\n",
       "50%        4500.00\n",
       "75%        6750.00\n",
       "max      100000.00\n",
       "Name: selling_price, dtype: float64"
      ]
     },
     "execution_count": 18,
     "metadata": {},
     "output_type": "execute_result"
    }
   ],
   "source": [
    "preco = df['selling_price'].describe()\n",
    "preco = round(preco,2)\n",
    "preco"
   ]
  },
  {
   "cell_type": "markdown",
   "metadata": {
    "id": "VNnNwU6EQy2H"
   },
   "source": [
    "# Analise da quantidade de km rodados:"
   ]
  },
  {
   "cell_type": "code",
   "execution_count": null,
   "metadata": {
    "colab": {
     "base_uri": "https://localhost:8080/"
    },
    "id": "Q6wusfYco4Jt",
    "outputId": "f55f6826-4f1e-438d-fe86-717863649f02"
   },
   "outputs": [
    {
     "data": {
      "text/plain": [
       "count       8128.00\n",
       "mean       69819.51\n",
       "std        56550.55\n",
       "min            1.00\n",
       "25%        35000.00\n",
       "50%        60000.00\n",
       "75%        98000.00\n",
       "max      2360457.00\n",
       "Name: km_driven, dtype: float64"
      ]
     },
     "execution_count": 19,
     "metadata": {},
     "output_type": "execute_result"
    }
   ],
   "source": [
    "km = df['km_driven'].describe()\n",
    "km = round(km,2)\n",
    "km"
   ]
  },
  {
   "cell_type": "code",
   "execution_count": null,
   "metadata": {
    "colab": {
     "base_uri": "https://localhost:8080/",
     "height": 538
    },
    "id": "G-mHkdKthX96",
    "outputId": "eb6708cf-3b58-40ca-9316-3045ddf89fb1"
   },
   "outputs": [
    {
     "data": {
      "text/plain": [
       "<matplotlib.axes._subplots.AxesSubplot at 0x7f5fb7f1bd10>"
      ]
     },
     "execution_count": 20,
     "metadata": {},
     "output_type": "execute_result"
    },
    {
     "data": {
      "image/png": "[encoded data removed]",
      "text/plain": [
       "<Figure size 1008x576 with 1 Axes>"
      ]
     },
     "metadata": {
      "needs_background": "light"
     },
     "output_type": "display_data"
    }
   ],
   "source": [
    "ax = sns.boxplot(x = 'selling_price', y = 'fuel', hue = 'transmission', data=df.query('selling_price < 15000'), orient='h')\n",
    "ax.figure.set_size_inches(14, 8)    # Personalizando o tamanho da figura\n",
    "ax.set_title('Gráfico Descritivo Preço de Venda dos Veículos $', fontsize=18)    # Configurando o título do gráfico\n",
    "ax.set_xlabel('$', fontsize=14)    # Configurando o label do eixo X\n",
    "ax.set_ylabel('Combustível', fontsize=14)    # Configurando o label do eixo Y\n",
    "\n",
    "ax"
   ]
  },
  {
   "cell_type": "markdown",
   "metadata": {
    "id": "gTuYId1c0eHG"
   },
   "source": [
    "# Análise da Moda"
   ]
  },
  {
   "cell_type": "markdown",
   "metadata": {
    "id": "eKn-OUuC0iXb"
   },
   "source": [
    "Preço de venda:"
   ]
  },
  {
   "cell_type": "code",
   "execution_count": null,
   "metadata": {
    "colab": {
     "base_uri": "https://localhost:8080/"
    },
    "id": "vOE07UDq0lvk",
    "outputId": "f944d75c-8fe0-4799-af49-9f618e2eeb4b"
   },
   "outputs": [
    {
     "data": {
      "text/plain": [
       "3000.0"
      ]
     },
     "execution_count": 21,
     "metadata": {},
     "output_type": "execute_result"
    }
   ],
   "source": [
    "df.selling_price.mode()[0]"
   ]
  },
  {
   "cell_type": "markdown",
   "metadata": {
    "id": "MBCWiR9A0uQL"
   },
   "source": [
    "Assentos:"
   ]
  },
  {
   "cell_type": "code",
   "execution_count": null,
   "metadata": {
    "colab": {
     "base_uri": "https://localhost:8080/"
    },
    "id": "Lb5JoeZM0x8L",
    "outputId": "6eaafc11-0482-46fd-893f-7230437dd0ae"
   },
   "outputs": [
    {
     "data": {
      "text/plain": [
       "5.0"
      ]
     },
     "execution_count": 22,
     "metadata": {},
     "output_type": "execute_result"
    }
   ],
   "source": [
    "df.seats.mode()[0]"
   ]
  },
  {
   "cell_type": "markdown",
   "metadata": {
    "id": "5qnZzvyS2wEq"
   },
   "source": [
    "Consumo:"
   ]
  },
  {
   "cell_type": "code",
   "execution_count": null,
   "metadata": {
    "colab": {
     "base_uri": "https://localhost:8080/",
     "height": 35
    },
    "id": "PcZ03eGs2zBq",
    "outputId": "c12c4233-9c2c-463e-c80e-6dae8c265753"
   },
   "outputs": [
    {
     "data": {
      "application/vnd.google.colaboratory.intrinsic+json": {
       "type": "string"
      },
      "text/plain": [
       "'18.9 kmpl'"
      ]
     },
     "execution_count": 23,
     "metadata": {},
     "output_type": "execute_result"
    }
   ],
   "source": [
    "df.mileage.mode()[0]"
   ]
  },
  {
   "cell_type": "markdown",
   "metadata": {
    "id": "BsLO42sM5N7F"
   },
   "source": [
    "Torque:"
   ]
  },
  {
   "cell_type": "code",
   "execution_count": null,
   "metadata": {
    "colab": {
     "base_uri": "https://localhost:8080/",
     "height": 35
    },
    "id": "6FKKP0wG5NRN",
    "outputId": "9a35e9f4-c9a0-4b7b-8aff-fbc8d6d073e1"
   },
   "outputs": [
    {
     "data": {
      "application/vnd.google.colaboratory.intrinsic+json": {
       "type": "string"
      },
      "text/plain": [
       "'190Nm@ 2000rpm'"
      ]
     },
     "execution_count": 24,
     "metadata": {},
     "output_type": "execute_result"
    }
   ],
   "source": [
    "df.torque.mode()[0]"
   ]
  },
  {
   "cell_type": "markdown",
   "metadata": {
    "id": "qfjywy9F3FnB"
   },
   "source": [
    "Modelo Mais vendido:"
   ]
  },
  {
   "cell_type": "code",
   "execution_count": null,
   "metadata": {
    "colab": {
     "base_uri": "https://localhost:8080/",
     "height": 35
    },
    "id": "vxepvWUm3JUA",
    "outputId": "de6557e2-994b-4367-e591-f0fe064aab41"
   },
   "outputs": [
    {
     "data": {
      "application/vnd.google.colaboratory.intrinsic+json": {
       "type": "string"
      },
      "text/plain": [
       "'Maruti Swift Dzire VDI'"
      ]
     },
     "execution_count": 25,
     "metadata": {},
     "output_type": "execute_result"
    }
   ],
   "source": [
    "df.name.mode()[0]"
   ]
  },
  {
   "cell_type": "markdown",
   "metadata": {
    "id": "J9MIVmHF3ZSw"
   },
   "source": [
    "![image.png](data:image/png;base64,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)"
   ]
  },
  {
   "cell_type": "markdown",
   "metadata": {
    "id": "BgHTtB5fAadl"
   },
   "source": [
    "# Pensar em que tipo de algoritmo de inteligência artificial poderia ser utilizado para um determinado tipo de dado. Explicar o porquê da escolha.\n",
    "\n",
    "Para este caso seria utilizado um algoritimo de regressão linear para tentar predizer o preço do carro com base nas informações do mesmo. Isso viabilizaria a construção de um sistema Web ou Mobile para avaliação de um veículo, que pederia ser feita pelo própio cliente, ou poderia ajuraria um vendedor a ter uma resposta mais adequada para uma proposta comercial."
   ]
  },
  {
   "cell_type": "code",
   "execution_count": null,
   "metadata": {
    "id": "7EtzlCWr1fn-"
   },
   "outputs": [],
   "source": [
    "df = pd.read_csv('/content/drive/MyDrive/Python/Especialização/Carros/Car details v3.csv')"
   ]
  },
  {
   "cell_type": "code",
   "execution_count": null,
   "metadata": {
    "colab": {
     "base_uri": "https://localhost:8080/",
     "height": 469
    },
    "id": "HQW9pgF3BA-v",
    "outputId": "ebde30d8-4bd0-4c11-9426-6313a4630fa5"
   },
   "outputs": [
    {
     "data": {
      "text/html": [
       "<div>\n",
       "<style scoped>\n",
       "    .dataframe tbody tr th:only-of-type {\n",
       "        vertical-align: middle;\n",
       "    }\n",
       "\n",
       "    .dataframe tbody tr th {\n",
       "        vertical-align: top;\n",
       "    }\n",
       "\n",
       "    .dataframe thead th {\n",
       "        text-align: right;\n",
       "    }\n",
       "</style>\n",
       "<table border=\"1\" class=\"dataframe\">\n",
       "  <thead>\n",
       "    <tr style=\"text-align: right;\">\n",
       "      <th></th>\n",
       "      <th>name</th>\n",
       "      <th>year</th>\n",
       "      <th>selling_price</th>\n",
       "      <th>km_driven</th>\n",
       "      <th>fuel</th>\n",
       "      <th>seller_type</th>\n",
       "      <th>transmission</th>\n",
       "      <th>owner</th>\n",
       "      <th>mileage</th>\n",
       "      <th>engine</th>\n",
       "      <th>max_power</th>\n",
       "      <th>torque</th>\n",
       "      <th>seats</th>\n",
       "    </tr>\n",
       "  </thead>\n",
       "  <tbody>\n",
       "    <tr>\n",
       "      <th>0</th>\n",
       "      <td>Maruti Swift Dzire VDI</td>\n",
       "      <td>2014</td>\n",
       "      <td>4500.0</td>\n",
       "      <td>145500</td>\n",
       "      <td>Diesel</td>\n",
       "      <td>Individual</td>\n",
       "      <td>Manual</td>\n",
       "      <td>First Owner</td>\n",
       "      <td>23.4 kmpl</td>\n",
       "      <td>1248 CC</td>\n",
       "      <td>74 bhp</td>\n",
       "      <td>190Nm@ 2000rpm</td>\n",
       "      <td>5.0</td>\n",
       "    </tr>\n",
       "    <tr>\n",
       "      <th>1</th>\n",
       "      <td>Skoda Rapid 1.5 TDI Ambition</td>\n",
       "      <td>2014</td>\n",
       "      <td>3700.0</td>\n",
       "      <td>120000</td>\n",
       "      <td>Diesel</td>\n",
       "      <td>Individual</td>\n",
       "      <td>Manual</td>\n",
       "      <td>Second Owner</td>\n",
       "      <td>21.14 kmpl</td>\n",
       "      <td>1498 CC</td>\n",
       "      <td>103.52 bhp</td>\n",
       "      <td>250Nm@ 1500-2500rpm</td>\n",
       "      <td>5.0</td>\n",
       "    </tr>\n",
       "    <tr>\n",
       "      <th>2</th>\n",
       "      <td>Honda City 2017-2020 EXi</td>\n",
       "      <td>2006</td>\n",
       "      <td>1580.0</td>\n",
       "      <td>140000</td>\n",
       "      <td>Petrol</td>\n",
       "      <td>Individual</td>\n",
       "      <td>Manual</td>\n",
       "      <td>Third Owner</td>\n",
       "      <td>17.7 kmpl</td>\n",
       "      <td>1497 CC</td>\n",
       "      <td>78 bhp</td>\n",
       "      <td>12.7@ 2,700(kgm@ rpm)</td>\n",
       "      <td>5.0</td>\n",
       "    </tr>\n",
       "    <tr>\n",
       "      <th>3</th>\n",
       "      <td>Hyundai i20 Sportz Diesel</td>\n",
       "      <td>2010</td>\n",
       "      <td>2250.0</td>\n",
       "      <td>127000</td>\n",
       "      <td>Diesel</td>\n",
       "      <td>Individual</td>\n",
       "      <td>Manual</td>\n",
       "      <td>First Owner</td>\n",
       "      <td>23.0 kmpl</td>\n",
       "      <td>1396 CC</td>\n",
       "      <td>90 bhp</td>\n",
       "      <td>22.4 kgm at 1750-2750rpm</td>\n",
       "      <td>5.0</td>\n",
       "    </tr>\n",
       "    <tr>\n",
       "      <th>4</th>\n",
       "      <td>Maruti Swift VXI BSIII</td>\n",
       "      <td>2007</td>\n",
       "      <td>1300.0</td>\n",
       "      <td>120000</td>\n",
       "      <td>Petrol</td>\n",
       "      <td>Individual</td>\n",
       "      <td>Manual</td>\n",
       "      <td>First Owner</td>\n",
       "      <td>16.1 kmpl</td>\n",
       "      <td>1298 CC</td>\n",
       "      <td>88.2 bhp</td>\n",
       "      <td>11.5@ 4,500(kgm@ rpm)</td>\n",
       "      <td>5.0</td>\n",
       "    </tr>\n",
       "  </tbody>\n",
       "</table>\n",
       "</div>"
      ],
      "text/plain": [
       "                           name  year  ...                    torque  seats\n",
       "0        Maruti Swift Dzire VDI  2014  ...            190Nm@ 2000rpm    5.0\n",
       "1  Skoda Rapid 1.5 TDI Ambition  2014  ...       250Nm@ 1500-2500rpm    5.0\n",
       "2      Honda City 2017-2020 EXi  2006  ...     12.7@ 2,700(kgm@ rpm)    5.0\n",
       "3     Hyundai i20 Sportz Diesel  2010  ...  22.4 kgm at 1750-2750rpm    5.0\n",
       "4        Maruti Swift VXI BSIII  2007  ...     11.5@ 4,500(kgm@ rpm)    5.0\n",
       "\n",
       "[5 rows x 13 columns]"
      ]
     },
     "execution_count": 26,
     "metadata": {},
     "output_type": "execute_result"
    }
   ],
   "source": [
    "df.head()"
   ]
  },
  {
   "cell_type": "markdown",
   "metadata": {
    "id": "_hRmAWWP1HJm"
   },
   "source": [
    "# Ajustando a Coluna Modelo"
   ]
  },
  {
   "cell_type": "code",
   "execution_count": null,
   "metadata": {
    "colab": {
     "base_uri": "https://localhost:8080/",
     "height": 423
    },
    "id": "khTtWxD_V6qm",
    "outputId": "c2e88e8e-cf17-4d7c-c235-abd34a3b3a50"
   },
   "outputs": [
    {
     "data": {
      "text/html": [
       "<div>\n",
       "<style scoped>\n",
       "    .dataframe tbody tr th:only-of-type {\n",
       "        vertical-align: middle;\n",
       "    }\n",
       "\n",
       "    .dataframe tbody tr th {\n",
       "        vertical-align: top;\n",
       "    }\n",
       "\n",
       "    .dataframe thead th {\n",
       "        text-align: right;\n",
       "    }\n",
       "</style>\n",
       "<table border=\"1\" class=\"dataframe\">\n",
       "  <thead>\n",
       "    <tr style=\"text-align: right;\">\n",
       "      <th></th>\n",
       "      <th>index</th>\n",
       "      <th>MODELO</th>\n",
       "    </tr>\n",
       "  </thead>\n",
       "  <tbody>\n",
       "    <tr>\n",
       "      <th>0</th>\n",
       "      <td>0</td>\n",
       "      <td>Ambassador CLASSIC 1500 DSL AC</td>\n",
       "    </tr>\n",
       "    <tr>\n",
       "      <th>1</th>\n",
       "      <td>1</td>\n",
       "      <td>Ambassador Classic 2000 DSZ AC PS</td>\n",
       "    </tr>\n",
       "    <tr>\n",
       "      <th>2</th>\n",
       "      <td>2</td>\n",
       "      <td>Ambassador Grand 1500 DSZ BSIII</td>\n",
       "    </tr>\n",
       "    <tr>\n",
       "      <th>3</th>\n",
       "      <td>3</td>\n",
       "      <td>Ambassador Grand 2000 DSZ PW CL</td>\n",
       "    </tr>\n",
       "    <tr>\n",
       "      <th>4</th>\n",
       "      <td>4</td>\n",
       "      <td>Ashok Leyland Stile LE</td>\n",
       "    </tr>\n",
       "    <tr>\n",
       "      <th>...</th>\n",
       "      <td>...</td>\n",
       "      <td>...</td>\n",
       "    </tr>\n",
       "    <tr>\n",
       "      <th>2053</th>\n",
       "      <td>2053</td>\n",
       "      <td>Volvo V40 D3 R-Design</td>\n",
       "    </tr>\n",
       "    <tr>\n",
       "      <th>2054</th>\n",
       "      <td>2054</td>\n",
       "      <td>Volvo XC40 D4 Inscription BSIV</td>\n",
       "    </tr>\n",
       "    <tr>\n",
       "      <th>2055</th>\n",
       "      <td>2055</td>\n",
       "      <td>Volvo XC40 D4 R-Design</td>\n",
       "    </tr>\n",
       "    <tr>\n",
       "      <th>2056</th>\n",
       "      <td>2056</td>\n",
       "      <td>Volvo XC60 Inscription D5 BSIV</td>\n",
       "    </tr>\n",
       "    <tr>\n",
       "      <th>2057</th>\n",
       "      <td>2057</td>\n",
       "      <td>Volvo XC90 T8 Excellence BSIV</td>\n",
       "    </tr>\n",
       "  </tbody>\n",
       "</table>\n",
       "<p>2058 rows × 2 columns</p>\n",
       "</div>"
      ],
      "text/plain": [
       "      index                             MODELO\n",
       "0         0     Ambassador CLASSIC 1500 DSL AC\n",
       "1         1  Ambassador Classic 2000 DSZ AC PS\n",
       "2         2    Ambassador Grand 1500 DSZ BSIII\n",
       "3         3    Ambassador Grand 2000 DSZ PW CL\n",
       "4         4             Ashok Leyland Stile LE\n",
       "...     ...                                ...\n",
       "2053   2053              Volvo V40 D3 R-Design\n",
       "2054   2054     Volvo XC40 D4 Inscription BSIV\n",
       "2055   2055             Volvo XC40 D4 R-Design\n",
       "2056   2056     Volvo XC60 Inscription D5 BSIV\n",
       "2057   2057      Volvo XC90 T8 Excellence BSIV\n",
       "\n",
       "[2058 rows x 2 columns]"
      ]
     },
     "execution_count": 43,
     "metadata": {},
     "output_type": "execute_result"
    }
   ],
   "source": [
    "modelo = pd.DataFrame(data=df.name.unique())\n",
    "modelo.columns = ['MODELO']\n",
    "modelo = modelo.sort_values('MODELO')\n",
    "modelo = modelo.drop_duplicates()\n",
    "modelo = modelo.reset_index()\n",
    "modelo['index'] = modelo.index\n",
    "\n",
    "modelo"
   ]
  },
  {
   "cell_type": "code",
   "execution_count": null,
   "metadata": {
    "id": "jABD4fAUWIwH"
   },
   "outputs": [],
   "source": []
  }
 ],
 "metadata": {
  "colab": {
   "name": "Carros.ipynb",
   "provenance": []
  },
  "kernelspec": {
   "display_name": "Python 3 (ipykernel)",
   "language": "python",
   "name": "python3"
  },
  "language_info": {
   "codemirror_mode": {
    "name": "ipython",
    "version": 3
   },
   "file_extension": ".py",
   "mimetype": "text/x-python",
   "name": "python",
   "nbconvert_exporter": "python",
   "pygments_lexer": "ipython3",
   "version": "3.9.7"
  }
 },
 "nbformat": 4,
 "nbformat_minor": 1
}
